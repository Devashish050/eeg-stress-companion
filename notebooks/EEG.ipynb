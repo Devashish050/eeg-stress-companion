{
 "cells": [
  {
   "cell_type": "markdown",
   "id": "77f3de47",
   "metadata": {},
   "source": [
    "## EEG Stress Detection"
   ]
  },
  {
   "cell_type": "code",
   "execution_count": 50,
   "id": "d26e855c",
   "metadata": {},
   "outputs": [],
   "source": [
    "import sagemaker\n",
    "sagemaker_session = sagemaker.Session()\n",
    "\n",
    "prefix = 'sagemaker/eeg-stress'\n",
    "role = sagemaker.get_execution_role()"
   ]
  },
  {
   "cell_type": "code",
   "execution_count": 2,
   "id": "82428246",
   "metadata": {},
   "outputs": [
    {
     "name": "stderr",
     "output_type": "stream",
     "text": [
      "Matplotlib is building the font cache; this may take a moment.\n"
     ]
    }
   ],
   "source": [
    "# import modules\n",
    "import pandas as pd\n",
    "import numpy as np\n",
    "\n",
    "import matplotlib.pyplot as plt\n",
    "import seaborn as sbn\n",
    "%matplotlib inline\n",
    "\n",
    "from sklearn.decomposition import PCA\n",
    "from sklearn.metrics import confusion_matrix, classification_report\n",
    "from sklearn.model_selection import train_test_split\n",
    "\n",
    "import torch\n",
    "import torch.nn as nn"
   ]
  },
  {
   "cell_type": "code",
   "execution_count": 1,
   "id": "8ae56bfe",
   "metadata": {},
   "outputs": [],
   "source": [
    "def get_default_device():\n",
    "    '''Pick gpu if available else pick cpu'''\n",
    "    if torch.cuda.is_available():\n",
    "        return torch.device('cuda')\n",
    "    else:\n",
    "        return torch.device('cpu')\n",
    "\n",
    "def to_device(data, device):\n",
    "    '''Move tensors to choosen device'''\n",
    "    if isinstance(data, (list, tuple)):\n",
    "        return [to_device(d, device) for d in data]\n",
    "    return data.to(device, non_blocking=True)"
   ]
  },
  {
   "cell_type": "code",
   "execution_count": 3,
   "id": "55d57eef",
   "metadata": {},
   "outputs": [],
   "source": [
    "device = get_default_device()"
   ]
  },
  {
   "cell_type": "code",
   "execution_count": 4,
   "id": "dc08713b",
   "metadata": {},
   "outputs": [
    {
     "data": {
      "text/html": [
       "<div>\n",
       "<style scoped>\n",
       "    .dataframe tbody tr th:only-of-type {\n",
       "        vertical-align: middle;\n",
       "    }\n",
       "\n",
       "    .dataframe tbody tr th {\n",
       "        vertical-align: top;\n",
       "    }\n",
       "\n",
       "    .dataframe thead th {\n",
       "        text-align: right;\n",
       "    }\n",
       "</style>\n",
       "<table border=\"1\" class=\"dataframe\">\n",
       "  <thead>\n",
       "    <tr style=\"text-align: right;\">\n",
       "      <th></th>\n",
       "      <th># mean_0_a</th>\n",
       "      <th>mean_1_a</th>\n",
       "      <th>mean_2_a</th>\n",
       "      <th>mean_3_a</th>\n",
       "      <th>mean_4_a</th>\n",
       "      <th>mean_d_0_a</th>\n",
       "      <th>mean_d_1_a</th>\n",
       "      <th>mean_d_2_a</th>\n",
       "      <th>mean_d_3_a</th>\n",
       "      <th>mean_d_4_a</th>\n",
       "      <th>...</th>\n",
       "      <th>fft_741_b</th>\n",
       "      <th>fft_742_b</th>\n",
       "      <th>fft_743_b</th>\n",
       "      <th>fft_744_b</th>\n",
       "      <th>fft_745_b</th>\n",
       "      <th>fft_746_b</th>\n",
       "      <th>fft_747_b</th>\n",
       "      <th>fft_748_b</th>\n",
       "      <th>fft_749_b</th>\n",
       "      <th>label</th>\n",
       "    </tr>\n",
       "  </thead>\n",
       "  <tbody>\n",
       "    <tr>\n",
       "      <th>0</th>\n",
       "      <td>4.62</td>\n",
       "      <td>30.3</td>\n",
       "      <td>-356.0</td>\n",
       "      <td>15.6</td>\n",
       "      <td>26.3</td>\n",
       "      <td>1.070</td>\n",
       "      <td>0.411</td>\n",
       "      <td>-15.70</td>\n",
       "      <td>2.06</td>\n",
       "      <td>3.15</td>\n",
       "      <td>...</td>\n",
       "      <td>23.5</td>\n",
       "      <td>20.3</td>\n",
       "      <td>20.3</td>\n",
       "      <td>23.5</td>\n",
       "      <td>-215.0</td>\n",
       "      <td>280.00</td>\n",
       "      <td>-162.00</td>\n",
       "      <td>-162.00</td>\n",
       "      <td>280.00</td>\n",
       "      <td>NEGATIVE</td>\n",
       "    </tr>\n",
       "    <tr>\n",
       "      <th>1</th>\n",
       "      <td>28.80</td>\n",
       "      <td>33.1</td>\n",
       "      <td>32.0</td>\n",
       "      <td>25.8</td>\n",
       "      <td>22.8</td>\n",
       "      <td>6.550</td>\n",
       "      <td>1.680</td>\n",
       "      <td>2.88</td>\n",
       "      <td>3.83</td>\n",
       "      <td>-4.82</td>\n",
       "      <td>...</td>\n",
       "      <td>-23.3</td>\n",
       "      <td>-21.8</td>\n",
       "      <td>-21.8</td>\n",
       "      <td>-23.3</td>\n",
       "      <td>182.0</td>\n",
       "      <td>2.57</td>\n",
       "      <td>-31.60</td>\n",
       "      <td>-31.60</td>\n",
       "      <td>2.57</td>\n",
       "      <td>NEUTRAL</td>\n",
       "    </tr>\n",
       "    <tr>\n",
       "      <th>2</th>\n",
       "      <td>8.90</td>\n",
       "      <td>29.4</td>\n",
       "      <td>-416.0</td>\n",
       "      <td>16.7</td>\n",
       "      <td>23.7</td>\n",
       "      <td>79.900</td>\n",
       "      <td>3.360</td>\n",
       "      <td>90.20</td>\n",
       "      <td>89.90</td>\n",
       "      <td>2.03</td>\n",
       "      <td>...</td>\n",
       "      <td>462.0</td>\n",
       "      <td>-233.0</td>\n",
       "      <td>-233.0</td>\n",
       "      <td>462.0</td>\n",
       "      <td>-267.0</td>\n",
       "      <td>281.00</td>\n",
       "      <td>-148.00</td>\n",
       "      <td>-148.00</td>\n",
       "      <td>281.00</td>\n",
       "      <td>POSITIVE</td>\n",
       "    </tr>\n",
       "    <tr>\n",
       "      <th>3</th>\n",
       "      <td>14.90</td>\n",
       "      <td>31.6</td>\n",
       "      <td>-143.0</td>\n",
       "      <td>19.8</td>\n",
       "      <td>24.3</td>\n",
       "      <td>-0.584</td>\n",
       "      <td>-0.284</td>\n",
       "      <td>8.82</td>\n",
       "      <td>2.30</td>\n",
       "      <td>-1.97</td>\n",
       "      <td>...</td>\n",
       "      <td>299.0</td>\n",
       "      <td>-243.0</td>\n",
       "      <td>-243.0</td>\n",
       "      <td>299.0</td>\n",
       "      <td>132.0</td>\n",
       "      <td>-12.40</td>\n",
       "      <td>9.53</td>\n",
       "      <td>9.53</td>\n",
       "      <td>-12.40</td>\n",
       "      <td>POSITIVE</td>\n",
       "    </tr>\n",
       "    <tr>\n",
       "      <th>4</th>\n",
       "      <td>28.30</td>\n",
       "      <td>31.3</td>\n",
       "      <td>45.2</td>\n",
       "      <td>27.3</td>\n",
       "      <td>24.5</td>\n",
       "      <td>34.800</td>\n",
       "      <td>-5.790</td>\n",
       "      <td>3.06</td>\n",
       "      <td>41.40</td>\n",
       "      <td>5.52</td>\n",
       "      <td>...</td>\n",
       "      <td>12.0</td>\n",
       "      <td>38.1</td>\n",
       "      <td>38.1</td>\n",
       "      <td>12.0</td>\n",
       "      <td>119.0</td>\n",
       "      <td>-17.60</td>\n",
       "      <td>23.90</td>\n",
       "      <td>23.90</td>\n",
       "      <td>-17.60</td>\n",
       "      <td>NEUTRAL</td>\n",
       "    </tr>\n",
       "  </tbody>\n",
       "</table>\n",
       "<p>5 rows × 2549 columns</p>\n",
       "</div>"
      ],
      "text/plain": [
       "   # mean_0_a  mean_1_a  mean_2_a  mean_3_a  mean_4_a  mean_d_0_a  mean_d_1_a  \\\n",
       "0        4.62      30.3    -356.0      15.6      26.3       1.070       0.411   \n",
       "1       28.80      33.1      32.0      25.8      22.8       6.550       1.680   \n",
       "2        8.90      29.4    -416.0      16.7      23.7      79.900       3.360   \n",
       "3       14.90      31.6    -143.0      19.8      24.3      -0.584      -0.284   \n",
       "4       28.30      31.3      45.2      27.3      24.5      34.800      -5.790   \n",
       "\n",
       "   mean_d_2_a  mean_d_3_a  mean_d_4_a  ...  fft_741_b  fft_742_b  fft_743_b  \\\n",
       "0      -15.70        2.06        3.15  ...       23.5       20.3       20.3   \n",
       "1        2.88        3.83       -4.82  ...      -23.3      -21.8      -21.8   \n",
       "2       90.20       89.90        2.03  ...      462.0     -233.0     -233.0   \n",
       "3        8.82        2.30       -1.97  ...      299.0     -243.0     -243.0   \n",
       "4        3.06       41.40        5.52  ...       12.0       38.1       38.1   \n",
       "\n",
       "   fft_744_b  fft_745_b  fft_746_b  fft_747_b  fft_748_b  fft_749_b     label  \n",
       "0       23.5     -215.0     280.00    -162.00    -162.00     280.00  NEGATIVE  \n",
       "1      -23.3      182.0       2.57     -31.60     -31.60       2.57   NEUTRAL  \n",
       "2      462.0     -267.0     281.00    -148.00    -148.00     281.00  POSITIVE  \n",
       "3      299.0      132.0     -12.40       9.53       9.53     -12.40  POSITIVE  \n",
       "4       12.0      119.0     -17.60      23.90      23.90     -17.60   NEUTRAL  \n",
       "\n",
       "[5 rows x 2549 columns]"
      ]
     },
     "execution_count": 4,
     "metadata": {},
     "output_type": "execute_result"
    }
   ],
   "source": [
    "eeg_data = pd.read_csv(\"emotions.csv\")\n",
    "eeg_data.head()"
   ]
  },
  {
   "cell_type": "code",
   "execution_count": 5,
   "id": "5a70caf6",
   "metadata": {},
   "outputs": [
    {
     "data": {
      "text/plain": [
       "NEUTRAL     716\n",
       "NEGATIVE    708\n",
       "POSITIVE    708\n",
       "Name: label, dtype: int64"
      ]
     },
     "execution_count": 5,
     "metadata": {},
     "output_type": "execute_result"
    }
   ],
   "source": [
    "labels = eeg_data['label'].value_counts()\n",
    "labels"
   ]
  },
  {
   "cell_type": "code",
   "execution_count": 6,
   "id": "f5e995fa",
   "metadata": {},
   "outputs": [],
   "source": [
    "eeg_data['label'] = eeg_data['label'].replace(['NEUTRAL', 'NEGATIVE', 'POSITIVE'],['CALM', 'STRESSED', 'GOOD-MOOD'])"
   ]
  },
  {
   "cell_type": "code",
   "execution_count": 7,
   "id": "6c8bb456",
   "metadata": {},
   "outputs": [
    {
     "data": {
      "text/plain": [
       "CALM         716\n",
       "STRESSED     708\n",
       "GOOD-MOOD    708\n",
       "Name: label, dtype: int64"
      ]
     },
     "execution_count": 7,
     "metadata": {},
     "output_type": "execute_result"
    }
   ],
   "source": [
    "labels = eeg_data['label'].value_counts()\n",
    "labels"
   ]
  },
  {
   "cell_type": "markdown",
   "id": "f9fcc8bd",
   "metadata": {},
   "source": [
    "### Data Preprocessing"
   ]
  },
  {
   "cell_type": "code",
   "execution_count": 8,
   "id": "ce8ca0b9",
   "metadata": {},
   "outputs": [],
   "source": [
    "# do not change original dataset\n",
    "eeg_data_copy = eeg_data.copy()"
   ]
  },
  {
   "cell_type": "code",
   "execution_count": 9,
   "id": "8cfbc930",
   "metadata": {},
   "outputs": [],
   "source": [
    "# label encoding\n",
    "eeg_data['label'] = eeg_data['label'].astype('category').cat.codes"
   ]
  },
  {
   "cell_type": "code",
   "execution_count": 10,
   "id": "f8b4a6da",
   "metadata": {},
   "outputs": [],
   "source": [
    "# split data into training and test dataset\n",
    "X_train, X_test, y_train, y_test = train_test_split(eeg_data.drop('label', axis=1), eeg_data['label'], random_state=42, test_size=0.2, stratify=eeg_data['label'])"
   ]
  },
  {
   "cell_type": "code",
   "execution_count": 11,
   "id": "c5472f2f",
   "metadata": {},
   "outputs": [
    {
     "data": {
      "text/plain": [
       "0    573\n",
       "2    566\n",
       "1    566\n",
       "Name: label, dtype: int64"
      ]
     },
     "execution_count": 11,
     "metadata": {},
     "output_type": "execute_result"
    }
   ],
   "source": [
    "y_train.value_counts()"
   ]
  },
  {
   "cell_type": "code",
   "execution_count": 12,
   "id": "e4047c12",
   "metadata": {},
   "outputs": [
    {
     "data": {
      "text/plain": [
       "0    143\n",
       "2    142\n",
       "1    142\n",
       "Name: label, dtype: int64"
      ]
     },
     "execution_count": 12,
     "metadata": {},
     "output_type": "execute_result"
    }
   ],
   "source": [
    "y_test.value_counts()"
   ]
  },
  {
   "cell_type": "code",
   "execution_count": 13,
   "id": "e78abea2",
   "metadata": {},
   "outputs": [],
   "source": [
    "# convert test to numpy\n",
    "y_test = y_test.to_numpy()\n",
    "# convert to numpy arrays\n",
    "inputs_array = X_train.to_numpy()\n",
    "targets_array = y_train.to_numpy()"
   ]
  },
  {
   "cell_type": "code",
   "execution_count": 14,
   "id": "89e5d09b",
   "metadata": {},
   "outputs": [],
   "source": [
    "# convert to tensors\n",
    "inputs = to_device(torch.FloatTensor(inputs_array),device)\n",
    "targets = to_device(torch.FloatTensor(targets_array), device)"
   ]
  },
  {
   "cell_type": "code",
   "execution_count": 15,
   "id": "eca61578",
   "metadata": {},
   "outputs": [],
   "source": [
    "# define batch size\n",
    "batch_size = 128"
   ]
  },
  {
   "cell_type": "code",
   "execution_count": 16,
   "id": "3fc01346",
   "metadata": {},
   "outputs": [],
   "source": [
    "# build a GRU model\n",
    "class GRUModel(nn.Module):\n",
    "    def __init__(self, input_size, output_size, hidden_dim, n_layers):\n",
    "        super(GRUModel, self).__init__()\n",
    "\n",
    "        self.hidden_dim = hidden_dim\n",
    "        self.n_layers = n_layers\n",
    "\n",
    "        self.gru = nn.GRU(input_size, hidden_dim, n_layers, batch_first=True, dropout=0.2)\n",
    "        self.fc = nn.Linear(hidden_dim, output_size).float()\n",
    "        self.relu = nn.ReLU()\n",
    "        \n",
    "    def forward(self, x):\n",
    "        out, h = self.gru(x)\n",
    "        out = self.fc(self.relu(out))\n",
    "        return out, h\n",
    "    \n",
    "    def init_hidden(self, batch_size):\n",
    "        weight = next(self.parameters()).data\n",
    "        hidden = weight.new(self.n_layers, batch_size, self.hidden_dim).zero_()\n",
    "        return hidden"
   ]
  },
  {
   "cell_type": "code",
   "execution_count": 18,
   "id": "8b82346a",
   "metadata": {},
   "outputs": [],
   "source": [
    "input_size = len(X_train.columns)\n",
    "output_size = len(y_train.unique())\n",
    "hidden_dim = 128\n",
    "n_layers = 2\n",
    "# init hyperparameters\n",
    "n_epochs = 500\n",
    "# init model\n",
    "GRUmodel = GRUModel(input_size, output_size, hidden_dim, n_layers)"
   ]
  },
  {
   "cell_type": "code",
   "execution_count": 19,
   "id": "632757d4",
   "metadata": {},
   "outputs": [
    {
     "data": {
      "text/plain": [
       "GRUModel(\n",
       "  (gru): GRU(2548, 128, num_layers=2, batch_first=True, dropout=0.2)\n",
       "  (fc): Linear(in_features=128, out_features=3, bias=True)\n",
       "  (relu): ReLU()\n",
       ")"
      ]
     },
     "execution_count": 19,
     "metadata": {},
     "output_type": "execute_result"
    }
   ],
   "source": [
    "to_device(GRUmodel, device)"
   ]
  },
  {
   "cell_type": "code",
   "execution_count": 20,
   "id": "744a322a",
   "metadata": {},
   "outputs": [
    {
     "name": "stdout",
     "output_type": "stream",
     "text": [
      "Epoch: 10/500............. Loss: 0.8903\n",
      "Epoch: 20/500............. Loss: 0.7263\n",
      "Epoch: 30/500............. Loss: 0.6505\n",
      "Epoch: 40/500............. Loss: 0.6266\n",
      "Epoch: 50/500............. Loss: 0.6042\n",
      "Epoch: 60/500............. Loss: 0.5884\n",
      "Epoch: 70/500............. Loss: 0.5670\n",
      "Epoch: 80/500............. Loss: 0.5533\n",
      "Epoch: 90/500............. Loss: 0.5363\n",
      "Epoch: 100/500............. Loss: 0.5187\n",
      "Epoch: 110/500............. Loss: 0.5014\n",
      "Epoch: 120/500............. Loss: 0.4750\n",
      "Epoch: 130/500............. Loss: 0.4562\n",
      "Epoch: 140/500............. Loss: 0.4229\n",
      "Epoch: 150/500............. Loss: 0.4037\n",
      "Epoch: 160/500............. Loss: 0.3797\n",
      "Epoch: 170/500............. Loss: 0.3575\n",
      "Epoch: 180/500............. Loss: 0.3315\n",
      "Epoch: 190/500............. Loss: 0.3065\n",
      "Epoch: 200/500............. Loss: 0.2827\n",
      "Epoch: 210/500............. Loss: 0.2458\n",
      "Epoch: 220/500............. Loss: 0.2238\n",
      "Epoch: 230/500............. Loss: 0.1953\n",
      "Epoch: 240/500............. Loss: 0.1822\n",
      "Epoch: 250/500............. Loss: 0.1638\n",
      "Epoch: 260/500............. Loss: 0.1517\n",
      "Epoch: 270/500............. Loss: 0.1339\n",
      "Epoch: 280/500............. Loss: 0.1105\n",
      "Epoch: 290/500............. Loss: 0.1000\n",
      "Epoch: 300/500............. Loss: 0.0975\n",
      "Epoch: 310/500............. Loss: 0.0823\n",
      "Epoch: 320/500............. Loss: 0.0793\n",
      "Epoch: 330/500............. Loss: 0.0649\n",
      "Epoch: 340/500............. Loss: 0.0599\n",
      "Epoch: 350/500............. Loss: 0.0612\n",
      "Epoch: 360/500............. Loss: 0.0533\n",
      "Epoch: 370/500............. Loss: 0.0498\n",
      "Epoch: 380/500............. Loss: 0.0458\n",
      "Epoch: 390/500............. Loss: 0.0394\n",
      "Epoch: 400/500............. Loss: 0.0400\n",
      "Epoch: 410/500............. Loss: 0.0320\n",
      "Epoch: 420/500............. Loss: 0.0324\n",
      "Epoch: 430/500............. Loss: 0.0315\n",
      "Epoch: 440/500............. Loss: 0.0260\n",
      "Epoch: 450/500............. Loss: 0.0259\n",
      "Epoch: 460/500............. Loss: 0.0247\n",
      "Epoch: 470/500............. Loss: 0.0215\n",
      "Epoch: 480/500............. Loss: 0.0226\n",
      "Epoch: 490/500............. Loss: 0.0177\n",
      "Epoch: 500/500............. Loss: 0.0241\n"
     ]
    }
   ],
   "source": [
    "#Training the GRU Model\n",
    "#define loss and optimizer\n",
    "losses = []\n",
    "l_rates = [1e-1, 1e-2, 1e-3, 1e-4]\n",
    "l_r_i = 2\n",
    "criterion = nn.CrossEntropyLoss()\n",
    "optimizer = torch.optim.Adam(GRUmodel.parameters(), l_rates[l_r_i])\n",
    "# scheduler = torch.optim.lr_scheduler.ReduceLROnPlateau(optimizer, factor=0.01)\n",
    "for epoch in range(1, n_epochs + 1):\n",
    "    optimizer.zero_grad() \n",
    "    output, hidden = GRUmodel(inputs.unsqueeze(0))\n",
    "    loss = criterion(output.squeeze(0).float(), targets.long())\n",
    "    loss_detached = loss.detach().cpu().clone().numpy()\n",
    "    losses.append(loss_detached)\n",
    "\n",
    "    loss.backward() \n",
    "    optimizer.step()\n",
    "\n",
    "    if epoch%10 == 0:\n",
    "        print('Epoch: {}/{}.............'.format(epoch, n_epochs), end=' ')\n",
    "        print(\"Loss: {:.4f}\".format(loss.item()))"
   ]
  },
  {
   "cell_type": "markdown",
   "id": "e663ce6f",
   "metadata": {},
   "source": [
    "### Prediction and Testing"
   ]
  },
  {
   "cell_type": "code",
   "execution_count": 21,
   "id": "2a87066c",
   "metadata": {},
   "outputs": [],
   "source": [
    "test_data = to_device(torch.FloatTensor(X_test.to_numpy()).unsqueeze(0), device)\n",
    "output = GRUmodel(test_data)[0]\n",
    "output = output.squeeze(0)\n",
    "output_ = output.detach().cpu().clone()\n",
    "predictions = np.array(torch.argmax(output_, 1, keepdim=True))"
   ]
  },
  {
   "cell_type": "code",
   "execution_count": 22,
   "id": "d2fe3ac2",
   "metadata": {},
   "outputs": [
    {
     "data": {
      "text/plain": [
       "<AxesSubplot:>"
      ]
     },
     "execution_count": 22,
     "metadata": {},
     "output_type": "execute_result"
    },
    {
     "data": {
      "image/png": "[encoded data removed]",
      "text/plain": [
       "<Figure size 720x720 with 2 Axes>"
      ]
     },
     "metadata": {
      "needs_background": "light"
     },
     "output_type": "display_data"
    }
   ],
   "source": [
    "c_m = confusion_matrix(predictions, y_test)\n",
    "\n",
    "plt.figure(figsize=(10, 10))\n",
    "sbn.heatmap(c_m, annot=True, cmap='YlGnBu', fmt='g', yticklabels=list(labels.index), xticklabels=list(labels.index))"
   ]
  },
  {
   "cell_type": "code",
   "execution_count": 23,
   "id": "38f88043",
   "metadata": {},
   "outputs": [
    {
     "name": "stdout",
     "output_type": "stream",
     "text": [
      "              precision    recall  f1-score   support\n",
      "\n",
      "           0       0.64      0.72      0.68       143\n",
      "           1       0.46      0.37      0.41       142\n",
      "           2       0.77      0.82      0.79       142\n",
      "\n",
      "    accuracy                           0.64       427\n",
      "   macro avg       0.62      0.64      0.63       427\n",
      "weighted avg       0.62      0.64      0.63       427\n",
      "\n"
     ]
    }
   ],
   "source": [
    "print(classification_report(y_test, predictions))"
   ]
  },
  {
   "cell_type": "markdown",
   "id": "1cd55a3b",
   "metadata": {},
   "source": [
    "### Performing inference on a sample model"
   ]
  },
  {
   "cell_type": "code",
   "execution_count": 46,
   "id": "b313b5bb",
   "metadata": {},
   "outputs": [
    {
     "name": "stdout",
     "output_type": "stream",
     "text": [
      "tensor([[[ 0.1198, -0.0644,  0.1606]]], grad_fn=<AddBackward0>)\n"
     ]
    }
   ],
   "source": [
    "#Test model on an random incoming snippet\n",
    "test_array = np.ones((1, 1, 2548))\n",
    "test_point = to_device(torch.FloatTensor(test_array),device)\n",
    "output = GRUmodel(test_point)[0]\n",
    "print(output)\n",
    "output_ = output.detach().cpu().clone()\n",
    "prediction = torch.argmax(output_)\n",
    "\n",
    "label_dict= {0:'STRESSED', 1:'CALM', 2:'GOOD-MOOD'}\n",
    "prediction = label_dict[int(prediction)]"
   ]
  },
  {
   "cell_type": "code",
   "execution_count": 47,
   "id": "da2c2dbf",
   "metadata": {},
   "outputs": [
    {
     "data": {
      "text/plain": [
       "'GOOD-MOOD'"
      ]
     },
     "execution_count": 47,
     "metadata": {},
     "output_type": "execute_result"
    }
   ],
   "source": [
    "prediction"
   ]
  },
  {
   "cell_type": "markdown",
   "id": "15123027",
   "metadata": {},
   "source": [
    "### Saving Model for Inference"
   ]
  },
  {
   "cell_type": "code",
   "execution_count": 56,
   "id": "e9a94a76",
   "metadata": {},
   "outputs": [],
   "source": []
  }
 ],
 "metadata": {
  "kernelspec": {
   "display_name": "conda_amazonei_pytorch_latest_p37",
   "language": "python",
   "name": "conda_amazonei_pytorch_latest_p37"
  },
  "language_info": {
   "codemirror_mode": {
    "name": "ipython",
    "version": 3
   },
   "file_extension": ".py",
   "mimetype": "text/x-python",
   "name": "python",
   "nbconvert_exporter": "python",
   "pygments_lexer": "ipython3",
   "version": "3.7.12"
  }
 },
 "nbformat": 4,
 "nbformat_minor": 5
}
